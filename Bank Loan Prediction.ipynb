{
 "cells": [
  {
   "cell_type": "markdown",
   "id": "c37674b0",
   "metadata": {},
   "source": [
    "# Overview"
   ]
  },
  {
   "cell_type": "markdown",
   "id": "6b838f63",
   "metadata": {},
   "source": [
    "This case is about a bank called Thera Bank whose management wants to explore ways of converting its liability customers to personal loan customers (while retaining them as depositors). A campaign that the bank ran last year for liability customers showed a healthy conversion rate of over 9% success. This has encouraged the retail marketing department to devise campaigns with better target marketing to increase the success ratio with minimal budget."
   ]
  },
  {
   "cell_type": "markdown",
   "id": "7f5cd662",
   "metadata": {},
   "source": [
    "# Objective "
   ]
  },
  {
   "cell_type": "markdown",
   "id": "7af1c563",
   "metadata": {},
   "source": [
    "The classification goal is to predict the likelihood of a liability customer buying personal loans."
   ]
  },
  {
   "cell_type": "markdown",
   "id": "d0f67ae4",
   "metadata": {},
   "source": [
    "# Data Description"
   ]
  },
  {
   "cell_type": "markdown",
   "id": "2c12531a",
   "metadata": {},
   "source": [
    "The file Bank_loan.csv contains data on 5000 customers. The data include customer demographic information (age, income, etc.), the customer's relationship with the bank (mortgage, securities account, etc.), and the customer response to the last personal loan campaign (Personal Loan). Among these 5000 customers, only 480 (= 9.6%) accepted the personal loan that was offered to them in the earlier campaign.\n",
    "\n"
   ]
  },
  {
   "cell_type": "markdown",
   "id": "1bcc7516",
   "metadata": {},
   "source": [
    "### Data Information:"
   ]
  },
  {
   "cell_type": "markdown",
   "id": "f4a01f80",
   "metadata": {},
   "source": [
    "1. **ID** : Customer ID\n",
    "\n",
    "2. **Age** : Customer's age in completed years\n",
    "\n",
    "3. **Experience** : #years of professional experience\n",
    "\n",
    "4. **Income** : Annual income of the customer ($000)\n",
    "\n",
    "5. **ZIP Code** : Home Address ZIP code.\n",
    "\n",
    "6. **Family** : Family size of the customer\n",
    "\n",
    "7. **CCAvg** : Avg. spending on credit cards per month ($000)\n",
    "\n",
    "8. **Education** : Education Level. 1: Undergrad; 2: Graduate;\n",
    "3: Advanced/Professional\n",
    "\n",
    "9. **Mortgage** : Value of house mortgage if any. ($000)\n",
    "\n",
    "10. **Personal Loan** : Did this customer accept the personal loan offered in the\n",
    "last campaign?\n",
    "\n",
    "11. **Securities Account** : Does the customer have a securities account with the bank?\n",
    "\n",
    "12. **CD Account** : Does the customer have a certificate of deposit (CD)\n",
    " account with the bank?\n",
    "\n",
    "13. **Online** : Does the customer use internet banking facilities?\n",
    "\n",
    "14. **Credit card** : Does the customer use a credit card issued by\n",
    "UniversalBank?"
   ]
  },
  {
   "cell_type": "markdown",
   "id": "c2450349",
   "metadata": {},
   "source": [
    "# Activities to be Performed"
   ]
  },
  {
   "cell_type": "markdown",
   "id": "ca0b3367",
   "metadata": {},
   "source": [
    "* Exploratory Data Analysis (EDA)\n",
    "\n",
    "* Data Cleaning\n",
    "\n",
    "* Building Model\n",
    "\n",
    "* Model Evaluation"
   ]
  },
  {
   "cell_type": "code",
   "execution_count": 1,
   "id": "5f8e132d",
   "metadata": {},
   "outputs": [],
   "source": [
    "# Importing the dependencies\n",
    "import pandas as pd\n",
    "import numpy as np\n",
    "import matplotlib.pyplot as plt\n",
    "import seaborn as sns\n",
    "\n",
    "import warnings\n",
    "warnings.filterwarnings(\"ignore\")"
   ]
  },
  {
   "cell_type": "code",
   "execution_count": 2,
   "id": "3b90e883",
   "metadata": {},
   "outputs": [],
   "source": [
    "data = pd.read_csv('Data/Bank_loan.csv')"
   ]
  },
  {
   "cell_type": "code",
   "execution_count": 3,
   "id": "cbaf9660",
   "metadata": {},
   "outputs": [
    {
     "data": {
      "text/html": [
       "<div>\n",
       "<style scoped>\n",
       "    .dataframe tbody tr th:only-of-type {\n",
       "        vertical-align: middle;\n",
       "    }\n",
       "\n",
       "    .dataframe tbody tr th {\n",
       "        vertical-align: top;\n",
       "    }\n",
       "\n",
       "    .dataframe thead th {\n",
       "        text-align: right;\n",
       "    }\n",
       "</style>\n",
       "<table border=\"1\" class=\"dataframe\">\n",
       "  <thead>\n",
       "    <tr style=\"text-align: right;\">\n",
       "      <th></th>\n",
       "      <th>ID</th>\n",
       "      <th>Age</th>\n",
       "      <th>Experience</th>\n",
       "      <th>Income</th>\n",
       "      <th>ZIP Code</th>\n",
       "      <th>Family</th>\n",
       "      <th>CCAvg</th>\n",
       "      <th>Education</th>\n",
       "      <th>Mortgage</th>\n",
       "      <th>Personal Loan</th>\n",
       "      <th>Securities Account</th>\n",
       "      <th>CD Account</th>\n",
       "      <th>Online</th>\n",
       "      <th>CreditCard</th>\n",
       "    </tr>\n",
       "  </thead>\n",
       "  <tbody>\n",
       "    <tr>\n",
       "      <th>0</th>\n",
       "      <td>1</td>\n",
       "      <td>25</td>\n",
       "      <td>1</td>\n",
       "      <td>49</td>\n",
       "      <td>91107</td>\n",
       "      <td>4</td>\n",
       "      <td>1.6</td>\n",
       "      <td>1</td>\n",
       "      <td>0</td>\n",
       "      <td>0</td>\n",
       "      <td>1</td>\n",
       "      <td>0</td>\n",
       "      <td>0</td>\n",
       "      <td>0</td>\n",
       "    </tr>\n",
       "    <tr>\n",
       "      <th>1</th>\n",
       "      <td>2</td>\n",
       "      <td>45</td>\n",
       "      <td>19</td>\n",
       "      <td>34</td>\n",
       "      <td>90089</td>\n",
       "      <td>3</td>\n",
       "      <td>1.5</td>\n",
       "      <td>1</td>\n",
       "      <td>0</td>\n",
       "      <td>0</td>\n",
       "      <td>1</td>\n",
       "      <td>0</td>\n",
       "      <td>0</td>\n",
       "      <td>0</td>\n",
       "    </tr>\n",
       "    <tr>\n",
       "      <th>2</th>\n",
       "      <td>3</td>\n",
       "      <td>39</td>\n",
       "      <td>15</td>\n",
       "      <td>11</td>\n",
       "      <td>94720</td>\n",
       "      <td>1</td>\n",
       "      <td>1.0</td>\n",
       "      <td>1</td>\n",
       "      <td>0</td>\n",
       "      <td>0</td>\n",
       "      <td>0</td>\n",
       "      <td>0</td>\n",
       "      <td>0</td>\n",
       "      <td>0</td>\n",
       "    </tr>\n",
       "    <tr>\n",
       "      <th>3</th>\n",
       "      <td>4</td>\n",
       "      <td>35</td>\n",
       "      <td>9</td>\n",
       "      <td>100</td>\n",
       "      <td>94112</td>\n",
       "      <td>1</td>\n",
       "      <td>2.7</td>\n",
       "      <td>2</td>\n",
       "      <td>0</td>\n",
       "      <td>0</td>\n",
       "      <td>0</td>\n",
       "      <td>0</td>\n",
       "      <td>0</td>\n",
       "      <td>0</td>\n",
       "    </tr>\n",
       "    <tr>\n",
       "      <th>4</th>\n",
       "      <td>5</td>\n",
       "      <td>35</td>\n",
       "      <td>8</td>\n",
       "      <td>45</td>\n",
       "      <td>91330</td>\n",
       "      <td>4</td>\n",
       "      <td>1.0</td>\n",
       "      <td>2</td>\n",
       "      <td>0</td>\n",
       "      <td>0</td>\n",
       "      <td>0</td>\n",
       "      <td>0</td>\n",
       "      <td>0</td>\n",
       "      <td>1</td>\n",
       "    </tr>\n",
       "  </tbody>\n",
       "</table>\n",
       "</div>"
      ],
      "text/plain": [
       "   ID  Age  Experience  Income  ZIP Code  Family  CCAvg  Education  Mortgage   \n",
       "0   1   25           1      49     91107       4    1.6          1         0  \\\n",
       "1   2   45          19      34     90089       3    1.5          1         0   \n",
       "2   3   39          15      11     94720       1    1.0          1         0   \n",
       "3   4   35           9     100     94112       1    2.7          2         0   \n",
       "4   5   35           8      45     91330       4    1.0          2         0   \n",
       "\n",
       "   Personal Loan  Securities Account  CD Account  Online  CreditCard  \n",
       "0              0                   1           0       0           0  \n",
       "1              0                   1           0       0           0  \n",
       "2              0                   0           0       0           0  \n",
       "3              0                   0           0       0           0  \n",
       "4              0                   0           0       0           1  "
      ]
     },
     "execution_count": 3,
     "metadata": {},
     "output_type": "execute_result"
    }
   ],
   "source": [
    "data.head()"
   ]
  },
  {
   "cell_type": "code",
   "execution_count": 4,
   "id": "5685e65d",
   "metadata": {},
   "outputs": [
    {
     "data": {
      "text/plain": [
       "(5000, 14)"
      ]
     },
     "execution_count": 4,
     "metadata": {},
     "output_type": "execute_result"
    }
   ],
   "source": [
    "# Shape of Dataset\n",
    "data.shape"
   ]
  },
  {
   "cell_type": "markdown",
   "id": "9022924f",
   "metadata": {},
   "source": [
    "* Rows - 5000\n",
    "* Columns - 14"
   ]
  },
  {
   "cell_type": "code",
   "execution_count": 5,
   "id": "fd30cd57",
   "metadata": {},
   "outputs": [
    {
     "name": "stdout",
     "output_type": "stream",
     "text": [
      "<class 'pandas.core.frame.DataFrame'>\n",
      "RangeIndex: 5000 entries, 0 to 4999\n",
      "Data columns (total 14 columns):\n",
      " #   Column              Non-Null Count  Dtype  \n",
      "---  ------              --------------  -----  \n",
      " 0   ID                  5000 non-null   int64  \n",
      " 1   Age                 5000 non-null   int64  \n",
      " 2   Experience          5000 non-null   int64  \n",
      " 3   Income              5000 non-null   int64  \n",
      " 4   ZIP Code            5000 non-null   int64  \n",
      " 5   Family              5000 non-null   int64  \n",
      " 6   CCAvg               5000 non-null   float64\n",
      " 7   Education           5000 non-null   int64  \n",
      " 8   Mortgage            5000 non-null   int64  \n",
      " 9   Personal Loan       5000 non-null   int64  \n",
      " 10  Securities Account  5000 non-null   int64  \n",
      " 11  CD Account          5000 non-null   int64  \n",
      " 12  Online              5000 non-null   int64  \n",
      " 13  CreditCard          5000 non-null   int64  \n",
      "dtypes: float64(1), int64(13)\n",
      "memory usage: 547.0 KB\n"
     ]
    }
   ],
   "source": [
    "data.info()"
   ]
  },
  {
   "cell_type": "code",
   "execution_count": 6,
   "id": "8e59379f",
   "metadata": {},
   "outputs": [
    {
     "data": {
      "text/html": [
       "<div>\n",
       "<style scoped>\n",
       "    .dataframe tbody tr th:only-of-type {\n",
       "        vertical-align: middle;\n",
       "    }\n",
       "\n",
       "    .dataframe tbody tr th {\n",
       "        vertical-align: top;\n",
       "    }\n",
       "\n",
       "    .dataframe thead th {\n",
       "        text-align: right;\n",
       "    }\n",
       "</style>\n",
       "<table border=\"1\" class=\"dataframe\">\n",
       "  <thead>\n",
       "    <tr style=\"text-align: right;\">\n",
       "      <th></th>\n",
       "      <th>count</th>\n",
       "      <th>mean</th>\n",
       "      <th>std</th>\n",
       "      <th>min</th>\n",
       "      <th>25%</th>\n",
       "      <th>50%</th>\n",
       "      <th>75%</th>\n",
       "      <th>max</th>\n",
       "    </tr>\n",
       "  </thead>\n",
       "  <tbody>\n",
       "    <tr>\n",
       "      <th>ID</th>\n",
       "      <td>5000.0</td>\n",
       "      <td>2500.500000</td>\n",
       "      <td>1443.520003</td>\n",
       "      <td>1.0</td>\n",
       "      <td>1250.75</td>\n",
       "      <td>2500.5</td>\n",
       "      <td>3750.25</td>\n",
       "      <td>5000.0</td>\n",
       "    </tr>\n",
       "    <tr>\n",
       "      <th>Age</th>\n",
       "      <td>5000.0</td>\n",
       "      <td>45.338400</td>\n",
       "      <td>11.463166</td>\n",
       "      <td>23.0</td>\n",
       "      <td>35.00</td>\n",
       "      <td>45.0</td>\n",
       "      <td>55.00</td>\n",
       "      <td>67.0</td>\n",
       "    </tr>\n",
       "    <tr>\n",
       "      <th>Experience</th>\n",
       "      <td>5000.0</td>\n",
       "      <td>20.104600</td>\n",
       "      <td>11.467954</td>\n",
       "      <td>-3.0</td>\n",
       "      <td>10.00</td>\n",
       "      <td>20.0</td>\n",
       "      <td>30.00</td>\n",
       "      <td>43.0</td>\n",
       "    </tr>\n",
       "    <tr>\n",
       "      <th>Income</th>\n",
       "      <td>5000.0</td>\n",
       "      <td>73.774200</td>\n",
       "      <td>46.033729</td>\n",
       "      <td>8.0</td>\n",
       "      <td>39.00</td>\n",
       "      <td>64.0</td>\n",
       "      <td>98.00</td>\n",
       "      <td>224.0</td>\n",
       "    </tr>\n",
       "    <tr>\n",
       "      <th>ZIP Code</th>\n",
       "      <td>5000.0</td>\n",
       "      <td>93152.503000</td>\n",
       "      <td>2121.852197</td>\n",
       "      <td>9307.0</td>\n",
       "      <td>91911.00</td>\n",
       "      <td>93437.0</td>\n",
       "      <td>94608.00</td>\n",
       "      <td>96651.0</td>\n",
       "    </tr>\n",
       "    <tr>\n",
       "      <th>Family</th>\n",
       "      <td>5000.0</td>\n",
       "      <td>2.396400</td>\n",
       "      <td>1.147663</td>\n",
       "      <td>1.0</td>\n",
       "      <td>1.00</td>\n",
       "      <td>2.0</td>\n",
       "      <td>3.00</td>\n",
       "      <td>4.0</td>\n",
       "    </tr>\n",
       "    <tr>\n",
       "      <th>CCAvg</th>\n",
       "      <td>5000.0</td>\n",
       "      <td>1.937938</td>\n",
       "      <td>1.747659</td>\n",
       "      <td>0.0</td>\n",
       "      <td>0.70</td>\n",
       "      <td>1.5</td>\n",
       "      <td>2.50</td>\n",
       "      <td>10.0</td>\n",
       "    </tr>\n",
       "    <tr>\n",
       "      <th>Education</th>\n",
       "      <td>5000.0</td>\n",
       "      <td>1.881000</td>\n",
       "      <td>0.839869</td>\n",
       "      <td>1.0</td>\n",
       "      <td>1.00</td>\n",
       "      <td>2.0</td>\n",
       "      <td>3.00</td>\n",
       "      <td>3.0</td>\n",
       "    </tr>\n",
       "    <tr>\n",
       "      <th>Mortgage</th>\n",
       "      <td>5000.0</td>\n",
       "      <td>56.498800</td>\n",
       "      <td>101.713802</td>\n",
       "      <td>0.0</td>\n",
       "      <td>0.00</td>\n",
       "      <td>0.0</td>\n",
       "      <td>101.00</td>\n",
       "      <td>635.0</td>\n",
       "    </tr>\n",
       "    <tr>\n",
       "      <th>Personal Loan</th>\n",
       "      <td>5000.0</td>\n",
       "      <td>0.096000</td>\n",
       "      <td>0.294621</td>\n",
       "      <td>0.0</td>\n",
       "      <td>0.00</td>\n",
       "      <td>0.0</td>\n",
       "      <td>0.00</td>\n",
       "      <td>1.0</td>\n",
       "    </tr>\n",
       "    <tr>\n",
       "      <th>Securities Account</th>\n",
       "      <td>5000.0</td>\n",
       "      <td>0.104400</td>\n",
       "      <td>0.305809</td>\n",
       "      <td>0.0</td>\n",
       "      <td>0.00</td>\n",
       "      <td>0.0</td>\n",
       "      <td>0.00</td>\n",
       "      <td>1.0</td>\n",
       "    </tr>\n",
       "    <tr>\n",
       "      <th>CD Account</th>\n",
       "      <td>5000.0</td>\n",
       "      <td>0.060400</td>\n",
       "      <td>0.238250</td>\n",
       "      <td>0.0</td>\n",
       "      <td>0.00</td>\n",
       "      <td>0.0</td>\n",
       "      <td>0.00</td>\n",
       "      <td>1.0</td>\n",
       "    </tr>\n",
       "    <tr>\n",
       "      <th>Online</th>\n",
       "      <td>5000.0</td>\n",
       "      <td>0.596800</td>\n",
       "      <td>0.490589</td>\n",
       "      <td>0.0</td>\n",
       "      <td>0.00</td>\n",
       "      <td>1.0</td>\n",
       "      <td>1.00</td>\n",
       "      <td>1.0</td>\n",
       "    </tr>\n",
       "    <tr>\n",
       "      <th>CreditCard</th>\n",
       "      <td>5000.0</td>\n",
       "      <td>0.294000</td>\n",
       "      <td>0.455637</td>\n",
       "      <td>0.0</td>\n",
       "      <td>0.00</td>\n",
       "      <td>0.0</td>\n",
       "      <td>1.00</td>\n",
       "      <td>1.0</td>\n",
       "    </tr>\n",
       "  </tbody>\n",
       "</table>\n",
       "</div>"
      ],
      "text/plain": [
       "                     count          mean          std     min       25%   \n",
       "ID                  5000.0   2500.500000  1443.520003     1.0   1250.75  \\\n",
       "Age                 5000.0     45.338400    11.463166    23.0     35.00   \n",
       "Experience          5000.0     20.104600    11.467954    -3.0     10.00   \n",
       "Income              5000.0     73.774200    46.033729     8.0     39.00   \n",
       "ZIP Code            5000.0  93152.503000  2121.852197  9307.0  91911.00   \n",
       "Family              5000.0      2.396400     1.147663     1.0      1.00   \n",
       "CCAvg               5000.0      1.937938     1.747659     0.0      0.70   \n",
       "Education           5000.0      1.881000     0.839869     1.0      1.00   \n",
       "Mortgage            5000.0     56.498800   101.713802     0.0      0.00   \n",
       "Personal Loan       5000.0      0.096000     0.294621     0.0      0.00   \n",
       "Securities Account  5000.0      0.104400     0.305809     0.0      0.00   \n",
       "CD Account          5000.0      0.060400     0.238250     0.0      0.00   \n",
       "Online              5000.0      0.596800     0.490589     0.0      0.00   \n",
       "CreditCard          5000.0      0.294000     0.455637     0.0      0.00   \n",
       "\n",
       "                        50%       75%      max  \n",
       "ID                   2500.5   3750.25   5000.0  \n",
       "Age                    45.0     55.00     67.0  \n",
       "Experience             20.0     30.00     43.0  \n",
       "Income                 64.0     98.00    224.0  \n",
       "ZIP Code            93437.0  94608.00  96651.0  \n",
       "Family                  2.0      3.00      4.0  \n",
       "CCAvg                   1.5      2.50     10.0  \n",
       "Education               2.0      3.00      3.0  \n",
       "Mortgage                0.0    101.00    635.0  \n",
       "Personal Loan           0.0      0.00      1.0  \n",
       "Securities Account      0.0      0.00      1.0  \n",
       "CD Account              0.0      0.00      1.0  \n",
       "Online                  1.0      1.00      1.0  \n",
       "CreditCard              0.0      1.00      1.0  "
      ]
     },
     "execution_count": 6,
     "metadata": {},
     "output_type": "execute_result"
    }
   ],
   "source": [
    "data.describe().T"
   ]
  },
  {
   "cell_type": "code",
   "execution_count": 7,
   "id": "0328d72b",
   "metadata": {},
   "outputs": [
    {
     "data": {
      "text/plain": [
       "ID                    0\n",
       "Age                   0\n",
       "Experience            0\n",
       "Income                0\n",
       "ZIP Code              0\n",
       "Family                0\n",
       "CCAvg                 0\n",
       "Education             0\n",
       "Mortgage              0\n",
       "Personal Loan         0\n",
       "Securities Account    0\n",
       "CD Account            0\n",
       "Online                0\n",
       "CreditCard            0\n",
       "dtype: int64"
      ]
     },
     "execution_count": 7,
     "metadata": {},
     "output_type": "execute_result"
    }
   ],
   "source": [
    "#checking for null values in the dataset\n",
    "data.isna().sum()"
   ]
  },
  {
   "cell_type": "markdown",
   "id": "048ef6e8",
   "metadata": {},
   "source": [
    "There is no Null Values in the dataset"
   ]
  },
  {
   "cell_type": "markdown",
   "id": "15202cc4",
   "metadata": {},
   "source": [
    "# Exploratory Data Analysis"
   ]
  },
  {
   "cell_type": "code",
   "execution_count": null,
   "id": "fe9ea4c7",
   "metadata": {},
   "outputs": [],
   "source": [
    "sns.pairplot(data)"
   ]
  },
  {
   "cell_type": "code",
   "execution_count": null,
   "id": "e948fb54",
   "metadata": {},
   "outputs": [],
   "source": [
    "data.corr()"
   ]
  },
  {
   "cell_type": "markdown",
   "id": "bdaf33b2",
   "metadata": {},
   "source": [
    "From the above correlation table, we can see that the customer ID provides less relationship with the rest of the data attributes, having negative correlation with almost all the other attrinutes."
   ]
  },
  {
   "cell_type": "code",
   "execution_count": null,
   "id": "d46cda95",
   "metadata": {},
   "outputs": [],
   "source": [
    "# Checking any outliers present in Age Attribute\n",
    "sns.boxplot(data['Age'])"
   ]
  },
  {
   "cell_type": "code",
   "execution_count": null,
   "id": "6fc44f01",
   "metadata": {},
   "outputs": [],
   "source": [
    "# Checking the distribution of Age Attribute\n",
    "sns.distplot(data['Age'], color='b')"
   ]
  },
  {
   "cell_type": "code",
   "execution_count": null,
   "id": "c1f50996",
   "metadata": {},
   "outputs": [],
   "source": [
    "data['Age'].mean()"
   ]
  },
  {
   "cell_type": "code",
   "execution_count": null,
   "id": "6ceb9c04",
   "metadata": {},
   "outputs": [],
   "source": [
    "data['Age'].median()"
   ]
  },
  {
   "cell_type": "markdown",
   "id": "52c4fb1b",
   "metadata": {},
   "source": [
    "Age Attribute is normally distributed."
   ]
  },
  {
   "cell_type": "code",
   "execution_count": null,
   "id": "48f9797c",
   "metadata": {
    "scrolled": true
   },
   "outputs": [],
   "source": [
    "sns.boxplot(data['Experience'])"
   ]
  },
  {
   "cell_type": "code",
   "execution_count": null,
   "id": "1fa3780d",
   "metadata": {},
   "outputs": [],
   "source": [
    "sns.distplot(data['Experience'])"
   ]
  },
  {
   "cell_type": "code",
   "execution_count": null,
   "id": "c8c68c57",
   "metadata": {},
   "outputs": [],
   "source": [
    "data['Experience'].mean()"
   ]
  },
  {
   "cell_type": "code",
   "execution_count": null,
   "id": "79e0b2fd",
   "metadata": {},
   "outputs": [],
   "source": [
    "data['Experience'].median()"
   ]
  },
  {
   "cell_type": "markdown",
   "id": "550846f5",
   "metadata": {},
   "source": [
    "Experience Attribute is normally distributed as well with more customer having experience above 10-30 years. Here mean(20) and median(20) are same. And it contains some negative values present in Experience which could be as a result of wrong data input which shouldn't be the case. Therefore we will replace these data points with the mean of the postive experience."
   ]
  },
  {
   "cell_type": "code",
   "execution_count": null,
   "id": "bcb5e990",
   "metadata": {},
   "outputs": [],
   "source": [
    "data[data['Experience'] < 0].head()"
   ]
  },
  {
   "cell_type": "code",
   "execution_count": null,
   "id": "f484ec9f",
   "metadata": {},
   "outputs": [],
   "source": [
    "# Checking how many rows conatins Experience as negative values\n",
    "data[data['Experience'] < 0]['Experience'].count()"
   ]
  },
  {
   "cell_type": "code",
   "execution_count": null,
   "id": "d4524d73",
   "metadata": {},
   "outputs": [],
   "source": [
    "sns.boxplot(data['Income'])"
   ]
  },
  {
   "cell_type": "markdown",
   "id": "94825857",
   "metadata": {},
   "source": [
    "**Income** is positively skewed. Majority of the customers have income between 45K and 100K. The boxplot below confirms the distribution."
   ]
  },
  {
   "cell_type": "code",
   "execution_count": null,
   "id": "9e879c5b",
   "metadata": {},
   "outputs": [],
   "source": [
    "sns.boxplot(data['CCAvg'])"
   ]
  },
  {
   "cell_type": "markdown",
   "id": "8a5e40e8",
   "metadata": {},
   "source": [
    "<br>\n",
    "\n",
    "**CCAvg** is also a positively skewed variable with an average spending falling between 0K-10K and majority spends less than 2.5K"
   ]
  },
  {
   "cell_type": "code",
   "execution_count": null,
   "id": "42f44fa2",
   "metadata": {},
   "outputs": [],
   "source": [
    "sns.boxplot(data['Family'])"
   ]
  },
  {
   "cell_type": "code",
   "execution_count": null,
   "id": "b5395f97",
   "metadata": {},
   "outputs": [],
   "source": [
    "sns.boxplot(data['Mortgage'])"
   ]
  },
  {
   "cell_type": "markdown",
   "id": "0c810ca7",
   "metadata": {},
   "source": [
    "<br>\n",
    "\n",
    "Mortgage has majority of the individuals having a mortgage of less than 40K with a huge range of 0k-635K"
   ]
  },
  {
   "cell_type": "markdown",
   "id": "e52a8a5a",
   "metadata": {},
   "source": [
    "# Data Cleaning"
   ]
  },
  {
   "cell_type": "code",
   "execution_count": null,
   "id": "234a1608",
   "metadata": {},
   "outputs": [],
   "source": [
    "PositiveExp = data.loc[data['Experience'] > 0]\n",
    "NegativeExp = data['Experience'] < 0\n",
    "col_name = 'Experience'\n",
    "my_list = data.loc[NegativeExp]['ID'].tolist()"
   ]
  },
  {
   "cell_type": "markdown",
   "id": "a8384274",
   "metadata": {},
   "source": [
    "For the record with the ID, get the value of Age column\n",
    "\n",
    "For the record with the ID, get the value of Education column\n",
    "\n",
    "Filter the records matching the above criteria from the data frame which has records with positive experience and take the median\n",
    "\n",
    "Apply the median back to the location which had negative experience"
   ]
  },
  {
   "cell_type": "code",
   "execution_count": null,
   "id": "26e6e5bb",
   "metadata": {},
   "outputs": [],
   "source": [
    "for id in my_list:\n",
    "    age = data.iloc[np.where(data['ID']==id)][\"Age\"].tolist()[0]\n",
    "    education = data.loc[np.where(data['ID']==id)][\"Education\"].tolist()[0]\n",
    "    filtered_data = PositiveExp[(PositiveExp.Age == age) & (PositiveExp.Education == education)]\n",
    "    Exp =filtered_data['Experience'].median()\n",
    "    data.loc[data.loc[np.where(data['ID']==id)].index, 'Experience'] = Exp"
   ]
  },
  {
   "cell_type": "code",
   "execution_count": null,
   "id": "82fe5539",
   "metadata": {},
   "outputs": [],
   "source": [
    "# checking if there are records with negative experience\n",
    "data[data['Experience'] < 0]['Experience'].count()"
   ]
  },
  {
   "cell_type": "code",
   "execution_count": null,
   "id": "6e35328b",
   "metadata": {},
   "outputs": [],
   "source": [
    "data.describe().T"
   ]
  },
  {
   "cell_type": "code",
   "execution_count": null,
   "id": "0c2e7865",
   "metadata": {},
   "outputs": [],
   "source": [
    "# Checking if there is any relation between Personal loan and Mortgages.\n",
    "sns.boxplot(x='Education', y='Income', hue='Personal Loan', data=data)"
   ]
  },
  {
   "cell_type": "markdown",
   "id": "811bfb79",
   "metadata": {},
   "source": [
    "The customers who have education level to be 1 are having more income, however, customers who have taken the personal loan are also having the same income levels"
   ]
  },
  {
   "cell_type": "code",
   "execution_count": null,
   "id": "9b2aada5",
   "metadata": {},
   "outputs": [],
   "source": [
    "top5_loc = data[data['Personal Loan']==1]['ZIP Code'].value_counts().head(5)\n",
    "top5_loc"
   ]
  },
  {
   "cell_type": "code",
   "execution_count": null,
   "id": "9d0313d1",
   "metadata": {},
   "outputs": [],
   "source": [
    "sns.boxplot(x=\"Education\", y='Mortgage', hue=\"Personal Loan\", data=data)"
   ]
  },
  {
   "cell_type": "markdown",
   "id": "b2cfcb48",
   "metadata": {},
   "source": [
    "**Observation :**\n",
    "\n",
    "It is observed that customers who have personal loans also have high mortgage"
   ]
  },
  {
   "cell_type": "code",
   "execution_count": null,
   "id": "776f9be2",
   "metadata": {},
   "outputs": [],
   "source": [
    "# Is there any influence of family size on whether a customer accepts a personal loan or not?\n",
    "\n",
    "sns.countplot(x='Family',data=data,hue='Personal Loan',palette='Set1')"
   ]
  },
  {
   "cell_type": "code",
   "execution_count": null,
   "id": "f68c0b91",
   "metadata": {},
   "outputs": [],
   "source": [
    "from scipy import stats\n",
    "\n",
    "stats.ttest_ind(data[data[\"Personal Loan\"] == 1]['Family'] , data[data['Personal Loan'] == 1]['Family'])"
   ]
  },
  {
   "cell_type": "markdown",
   "id": "48c4141d",
   "metadata": {},
   "source": [
    "\n",
    "From the observation above, Family size seems to have no impact on decision to take a loan."
   ]
  },
  {
   "cell_type": "code",
   "execution_count": null,
   "id": "02e67578",
   "metadata": {},
   "outputs": [],
   "source": [
    "sns.countplot(x='CD Account',hue='Personal Loan',data=data)"
   ]
  },
  {
   "cell_type": "markdown",
   "id": "2bbae01c",
   "metadata": {},
   "source": [
    "It is observed that customers who do not have CD account , also do not have loan as well. Though this seems to be majority. But almost all customers who has CD account has loan as well"
   ]
  },
  {
   "cell_type": "code",
   "execution_count": null,
   "id": "59143e55",
   "metadata": {},
   "outputs": [],
   "source": [
    "# Personal Loan Vs Credit Card Average\n",
    "\n",
    "sns.distplot( data[data['Personal Loan'] == 0]['CCAvg'], color = 'b')\n",
    "sns.distplot( data[data['Personal Loan'] == 1]['CCAvg'], color = 'g')"
   ]
  },
  {
   "cell_type": "code",
   "execution_count": null,
   "id": "05a37589",
   "metadata": {},
   "outputs": [],
   "source": [
    "data[data['Personal Loan'] == 0]['CCAvg'].median()*1000"
   ]
  },
  {
   "cell_type": "code",
   "execution_count": null,
   "id": "252d053b",
   "metadata": {},
   "outputs": [],
   "source": [
    "data[data['Personal Loan'] == 1]['CCAvg'].median()*1000"
   ]
  },
  {
   "cell_type": "markdown",
   "id": "a78bc689",
   "metadata": {},
   "source": [
    "The graph show persons who have personal loan have a higher credit card average.\n",
    "\n",
    "Average credit card spending with a median of 3800 dollar indicates a higher probability of personal loan. Also, Lower credit card spending with a median of 1400 dollars is less likely to take a loan."
   ]
  },
  {
   "cell_type": "code",
   "execution_count": null,
   "id": "57b47570",
   "metadata": {},
   "outputs": [],
   "source": [
    "# HeatMap\n",
    "\n",
    "plt.figure(figsize=(25, 25))\n",
    "ax = sns.heatmap(data.corr(), vmax=.8, square=True, fmt='.2f', annot=True, linecolor='white', linewidths=0.01)\n",
    "plt.title('Correlation Matrix')\n",
    "rotx = ax.set_xticklabels(ax.get_xticklabels(), rotation=90)\n",
    "roty = ax.set_yticklabels(ax.get_yticklabels(), rotation=30)\n",
    "plt.show()"
   ]
  },
  {
   "cell_type": "markdown",
   "id": "cba367c0",
   "metadata": {},
   "source": [
    "Age and Experoence is highly corelated\n",
    "\n",
    "Income and CCAvg also corelated"
   ]
  },
  {
   "cell_type": "code",
   "execution_count": null,
   "id": "31b2d910",
   "metadata": {},
   "outputs": [],
   "source": [
    "data = data.dropna()"
   ]
  },
  {
   "cell_type": "code",
   "execution_count": null,
   "id": "83d685ee",
   "metadata": {},
   "outputs": [],
   "source": [
    "# Splitting features and targets\n",
    "x = data.drop('Personal Loan', axis=1)\n",
    "y = data['Personal Loan']"
   ]
  },
  {
   "cell_type": "markdown",
   "id": "d7a058c8",
   "metadata": {},
   "source": [
    "# Splitting data into Train and Test"
   ]
  },
  {
   "cell_type": "code",
   "execution_count": null,
   "id": "e7dc3d95",
   "metadata": {},
   "outputs": [],
   "source": [
    "from sklearn.model_selection import train_test_split\n",
    "\n",
    "x_train, x_test, y_train, y_test = train_test_split(x, y, test_size=0.3, random_state=80)"
   ]
  },
  {
   "cell_type": "code",
   "execution_count": null,
   "id": "1ab53fd5",
   "metadata": {},
   "outputs": [],
   "source": [
    "x_train.shape, x_test.shape, y_train.shape, y_test.shape"
   ]
  },
  {
   "cell_type": "markdown",
   "id": "1010f058",
   "metadata": {},
   "source": [
    "# Building Model"
   ]
  },
  {
   "cell_type": "markdown",
   "id": "6bc4e651",
   "metadata": {},
   "source": [
    "## 1.) Logistic Regression"
   ]
  },
  {
   "cell_type": "code",
   "execution_count": null,
   "id": "4e451f8f",
   "metadata": {},
   "outputs": [],
   "source": [
    "from sklearn.linear_model import LogisticRegression\n",
    "\n",
    "lr_model = LogisticRegression()"
   ]
  },
  {
   "cell_type": "code",
   "execution_count": null,
   "id": "1dd7a92d",
   "metadata": {
    "scrolled": true
   },
   "outputs": [],
   "source": [
    "case = lr_model.fit(x_train, y_train)"
   ]
  },
  {
   "cell_type": "code",
   "execution_count": null,
   "id": "bd308afd",
   "metadata": {
    "scrolled": true
   },
   "outputs": [],
   "source": [
    "y_pred =lr_model.predict(x_test)\n",
    "y_pred"
   ]
  },
  {
   "cell_type": "code",
   "execution_count": null,
   "id": "61922d0c",
   "metadata": {},
   "outputs": [],
   "source": [
    "from sklearn.metrics import accuracy_score, precision_score, recall_score, f1_score\n",
    "\n",
    "lr_accuracy = accuracy_score(y_test, y_pred)*100\n",
    "lr_precision = precision_score(y_test, y_pred)*100\n",
    "lr_recall = recall_score(y_test, y_pred)*100\n",
    "lr_f1score = f1_score(y_test, y_pred)*100\n",
    "\n",
    "print(\"Accuracy : {:.2f}%\".format(lr_accuracy))\n",
    "print(\"Precision : {:.2f}%\".format(lr_precision))\n",
    "print(\"Recall : {:.2f}%\".format(lr_recall))\n",
    "print(\"F1 Score : {:.2f}%\".format(lr_f1score))"
   ]
  },
  {
   "cell_type": "code",
   "execution_count": null,
   "id": "59a9be1f",
   "metadata": {},
   "outputs": [],
   "source": [
    "from sklearn.metrics import confusion_matrix\n",
    "\n",
    "conf = confusion_matrix(y_test, y_pred)\n",
    "plt.clf()\n",
    "plt.imshow(conf,interpolation='nearest',cmap=plt.cm.Wistia)\n",
    "Xnames=['Negative','Postive']\n",
    "Ynames=['True','False']\n",
    "plt.title('Confusion matrix')\n",
    "plt.ylabel('Actual')\n",
    "plt.xlabel('Predicted')\n",
    "tick_marks=np.arange(len(classnames))\n",
    "plt.xticks(tick_marks,Xnames,rotation=45)\n",
    "plt.yticks(tick_marks,Ynames)\n",
    "s=[['TN','FP'],['FN','TP']]\n",
    "for i in range(2):\n",
    "    for j in range(2):\n",
    "        plt.text(j,i, str(s[i][j]) + '=' + str(conf[i][j]))\n",
    "plt.show()"
   ]
  },
  {
   "cell_type": "markdown",
   "id": "5a34acdf",
   "metadata": {},
   "source": [
    "## 2.) Decision Tree Classifier"
   ]
  },
  {
   "cell_type": "code",
   "execution_count": null,
   "id": "e665c84d",
   "metadata": {},
   "outputs": [],
   "source": [
    "from sklearn.tree import DecisionTreeClassifier\n",
    "\n",
    "dtc_model = DecisionTreeClassifier(criterion = 'entropy' , max_depth = 3)"
   ]
  },
  {
   "cell_type": "code",
   "execution_count": null,
   "id": "3c78cd0c",
   "metadata": {},
   "outputs": [],
   "source": [
    "dtc_model.fit(x_train, y_train)"
   ]
  },
  {
   "cell_type": "code",
   "execution_count": null,
   "id": "8c4685b3",
   "metadata": {},
   "outputs": [],
   "source": [
    "y_pred = dtc_model.predict(x_test)"
   ]
  },
  {
   "cell_type": "code",
   "execution_count": null,
   "id": "f63bba62",
   "metadata": {},
   "outputs": [],
   "source": [
    "dtc_accuracy = accuracy_score(y_pred, y_test)\n",
    "dtc_precision = precision_score(y_pred, y_test)\n",
    "dtc_recall = recall_score(y_pred, y_test)\n",
    "dtc_f1score = f1_score(y_pred, y_test)\n",
    "\n",
    "print(\"Accuracy : {:.2f}%\".format(dtc_accuracy))\n",
    "print(\"Precision : {:.2f}%\".format(dtc_precision))\n",
    "print(\"Recall : {:.2f}%\".format(dtc_recall))\n",
    "print(\"F1 Score : {:.2f}%\".format(dtc_f1score))"
   ]
  },
  {
   "cell_type": "code",
   "execution_count": null,
   "id": "a0f148e0",
   "metadata": {},
   "outputs": [],
   "source": [
    "confusion_matrix(y_test, y_pred)"
   ]
  }
 ],
 "metadata": {
  "kernelspec": {
   "display_name": "myenv",
   "language": "python",
   "name": "myenv"
  },
  "language_info": {
   "codemirror_mode": {
    "name": "ipython",
    "version": 3
   },
   "file_extension": ".py",
   "mimetype": "text/x-python",
   "name": "python",
   "nbconvert_exporter": "python",
   "pygments_lexer": "ipython3",
   "version": "3.10.9"
  }
 },
 "nbformat": 4,
 "nbformat_minor": 5
}
